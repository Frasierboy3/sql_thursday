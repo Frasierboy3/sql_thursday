{
 "cells": [
  {
   "cell_type": "markdown",
   "id": "7196054f",
   "metadata": {},
   "source": [
    "# Working with APIs"
   ]
  },
  {
   "cell_type": "markdown",
   "id": "0547b71e",
   "metadata": {},
   "source": [
    "API stands for Application programming interface<br>\n",
    "APIs are a way for applications to talk to eachother<br>\n",
    "In python we use the requests package to handle the connection<br>\n",
    "<small><strong>Note: It is requests with an s not request(this is a different package)</strong></small><br>\n",
    "Most API's communicate with data in the form of JSON<br>\n",
    "JSON stands for JavaScript Object Notation"
   ]
  },
  {
   "cell_type": "code",
   "execution_count": 37,
   "id": "4db9d154",
   "metadata": {},
   "outputs": [],
   "source": [
    "#import the packages we need:\n",
    "import requests as r"
   ]
  },
  {
   "cell_type": "markdown",
   "id": "e8c2ce51",
   "metadata": {},
   "source": [
    "We will be connecting to the Ergast F1 Racer API today:\n",
    "http://ergast.com/mrd/\n",
    "\n",
    "to view JSON data nicely in the Chrome browser install the extension JSONview"
   ]
  },
  {
   "cell_type": "code",
   "execution_count": null,
   "id": "52c440c6",
   "metadata": {},
   "outputs": [],
   "source": [
    "# help(requests)"
   ]
  },
  {
   "cell_type": "code",
   "execution_count": 40,
   "id": "f60c1b4a",
   "metadata": {},
   "outputs": [
    {
     "name": "stdout",
     "output_type": "stream",
     "text": [
      "<Response [200]>\n",
      "<class 'requests.models.Response'>\n"
     ]
    }
   ],
   "source": [
    "response = r.get('http://ergast.com/api/f1/2022/5/driverStandings.json')\n",
    "print(response)\n",
    "print(type(response))"
   ]
  },
  {
   "cell_type": "code",
   "execution_count": 6,
   "id": "7b63a204",
   "metadata": {},
   "outputs": [
    {
     "data": {
      "text/plain": [
       "True"
      ]
     },
     "execution_count": 6,
     "metadata": {},
     "output_type": "execute_result"
    }
   ],
   "source": [
    "#response object\n",
    "response.ok"
   ]
  },
  {
   "cell_type": "code",
   "execution_count": 42,
   "id": "c6d1fdaf",
   "metadata": {},
   "outputs": [],
   "source": [
    "#check and make sure we got a successful response from the API\n",
    "if response.ok:\n",
    "    data =response.json()\n",
    "#     print(data)"
   ]
  },
  {
   "cell_type": "code",
   "execution_count": 4,
   "id": "ed4d3256",
   "metadata": {},
   "outputs": [],
   "source": [
    "#view the response as a JSON\n",
    "#see above"
   ]
  },
  {
   "cell_type": "code",
   "execution_count": null,
   "id": "92e6cd2c",
   "metadata": {},
   "outputs": [],
   "source": []
  },
  {
   "cell_type": "code",
   "execution_count": 16,
   "id": "f074dfcf",
   "metadata": {},
   "outputs": [
    {
     "name": "stdout",
     "output_type": "stream",
     "text": [
      "Charles Leclerc\n",
      "Max Verstappen\n",
      "Sergio Pérez\n",
      "George Russell\n",
      "Carlos Sainz\n",
      "Lewis Hamilton\n",
      "Lando Norris\n",
      "Valtteri Bottas\n",
      "Esteban Ocon\n",
      "Kevin Magnussen\n",
      "Daniel Ricciardo\n",
      "Yuki Tsunoda\n",
      "Pierre Gasly\n",
      "Sebastian Vettel\n",
      "Alexander Albon\n",
      "Fernando Alonso\n",
      "Lance Stroll\n",
      "Guanyu Zhou\n",
      "Mick Schumacher\n",
      "Nico Hülkenberg\n",
      "Nicholas Latifi\n"
     ]
    }
   ],
   "source": [
    "# We only want the Driver Standings\n",
    "standings = data['MRData']['StandingsTable']['StandingsLists'][0]['DriverStandings']\n",
    "for entry in standings:\n",
    "    name = f\"{entry['Driver']['givenName']} {entry['Driver']['familyName']}\"\n",
    "    print(name)"
   ]
  },
  {
   "cell_type": "code",
   "execution_count": 30,
   "id": "be46a950",
   "metadata": {},
   "outputs": [],
   "source": [
    "def getRacerInfo(year, match):\n",
    "    url = f'http://ergast.com/api/f1/{year}/{match}/driverStandings.json'\n",
    "    response = r.get(url)\n",
    "    if response.ok:\n",
    "        my_dict=response.json()\n",
    "        racer_dict = {}\n",
    "        standings = my_dict['MRData']['StandingsTable']['StandingsLists'][0]['DriverStandings']\n",
    "        for entry in standings:\n",
    "            name = f\"{entry['Driver']['givenName']} {entry['Driver']['familyName']}\"\n",
    "            racer_dict[name] = {\n",
    "                'position': entry['position'],\n",
    "                'team': entry['Constructors'][0]['name']\n",
    "            \n",
    "            }\n",
    "        return racer_dict\n",
    "    return \"Error. Invalid year/match combo\"\n"
   ]
  },
  {
   "cell_type": "code",
   "execution_count": 3,
   "id": "3740c752",
   "metadata": {},
   "outputs": [
    {
     "name": "stdout",
     "output_type": "stream",
     "text": [
      "What pokemon are you looking for?squirtle\n"
     ]
    },
    {
     "data": {
      "text/plain": [
       "<Response [200]>"
      ]
     },
     "execution_count": 3,
     "metadata": {},
     "output_type": "execute_result"
    }
   ],
   "source": [
    "name = input('What pokemon are you looking for?')\n",
    "url = f\"https://pokeapi.co/api/v2/pokemon/{name}\"\n",
    "r.get(url)\n"
   ]
  },
  {
   "cell_type": "markdown",
   "id": "6d546014",
   "metadata": {},
   "source": [
    "# <strong>Homework</strong>\n",
    "check out this Pokemon API https://pokeapi.co/\n",
    "Use the requests package to connect to this API and get and store data for 5 different pokemon.\n",
    "Get the pokemons: name, atleast one ability's name, base_experience, and the URL for its sprite (an image that shows up on screen) for the 'front_shiny', attack base_state, hp base_stat, defense base_stat"
   ]
  },
  {
   "cell_type": "code",
   "execution_count": 53,
   "id": "5a9081e3",
   "metadata": {},
   "outputs": [
    {
     "name": "stdout",
     "output_type": "stream",
     "text": [
      "What pokemon are you looking for? chimchar\n",
      "{'name': 'chimchar', 'ability': 'blaze', 'base_experience': 62, 'front_shiny': 'https://raw.githubusercontent.com/PokeAPI/sprites/master/sprites/pokemon/shiny/390.png', 'base_stat': 44}\n"
     ]
    }
   ],
   "source": [
    "import requests as r\n",
    "\n",
    "def pokemon_search(entry):\n",
    "    url = f'https://pokeapi.co/api/v2/pokemon/{entry}'\n",
    "    response = r.get(url)\n",
    "    \n",
    "    if response.ok:\n",
    "        data = response.json()\n",
    "        pokedex = {}\n",
    "    \n",
    "        name = pokedex['name'] = data ['forms'][0]['name']\n",
    "        ability = pokedex['ability'] = data['abilities'][0]['ability']['name']\n",
    "        base_exp = pokedex['base_experience'] = data['base_experience']\n",
    "        sprite = pokedex['front_shiny'] = data['sprites']['front_shiny']\n",
    "        attack = pokedex['base_stat'] = data['stats'][1]['base_stat']\n",
    "        hp = pokedex['base_stat'] = data['stats'][0]['base_stat']\n",
    "        defense = pokedex['base_stat'] = data['stats'][2]['base_stat']\n",
    "        return pokedex\n",
    "    return f'Error. Invalid pokemon, please try again. '\n",
    "entry = input('What pokemon are you looking for? ')\n",
    "\n",
    "print(pokemon_search(entry))"
   ]
  },
  {
   "cell_type": "code",
   "execution_count": null,
   "id": "2ba395a8",
   "metadata": {},
   "outputs": [],
   "source": []
  }
 ],
 "metadata": {
  "kernelspec": {
   "display_name": "Python 3.9.13 64-bit (microsoft store)",
   "language": "python",
   "name": "python3"
  },
  "language_info": {
   "codemirror_mode": {
    "name": "ipython",
    "version": 3
   },
   "file_extension": ".py",
   "mimetype": "text/x-python",
   "name": "python",
   "nbconvert_exporter": "python",
   "pygments_lexer": "ipython3",
   "version": "3.9.13"
  },
  "vscode": {
   "interpreter": {
    "hash": "db7489260ebdcdad1ef978e7fcead2cad7bc27f0d3d927d2b0e6a1b63a701ab3"
   }
  }
 },
 "nbformat": 4,
 "nbformat_minor": 5
}
